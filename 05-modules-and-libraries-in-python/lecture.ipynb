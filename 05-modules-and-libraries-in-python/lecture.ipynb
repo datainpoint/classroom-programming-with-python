{
 "cells": [
  {
   "cell_type": "markdown",
   "metadata": {
    "slideshow": {
     "slide_type": "slide"
    }
   },
   "source": [
    "# Programming with Python\n",
    "\n",
    "> Modules and Libraries in Python.\n",
    "\n",
    "Kuo, Yao-Jen <yaojenkuo@datainpoint.com> from [DATAINPOINT](https://www.datainpoint.com/)"
   ]
  },
  {
   "cell_type": "markdown",
   "metadata": {
    "slideshow": {
     "slide_type": "slide"
    }
   },
   "source": [
    "## Modules and Libraries"
   ]
  },
  {
   "cell_type": "markdown",
   "metadata": {
    "slideshow": {
     "slide_type": "subslide"
    }
   },
   "source": [
    "## What is a module in Python?\n",
    "\n",
    "> A Python module is a file with the extension of `.py` which consists of a couple of functions or classes."
   ]
  },
  {
   "cell_type": "markdown",
   "metadata": {
    "slideshow": {
     "slide_type": "subslide"
    }
   },
   "source": [
    "## What is a libaray in Python?\n",
    "\n",
    "> A Python library is a folder which consists of a couple of libraries and modules."
   ]
  },
  {
   "cell_type": "markdown",
   "metadata": {
    "slideshow": {
     "slide_type": "subslide"
    }
   },
   "source": [
    "## Take `numpy` library as an example\n",
    "\n",
    "- We can find `numpy` in a folder called `site-pacakges` which links directly to our environment\n",
    "- `numpy`\n",
    "    - `__init__.py` module\n",
    "    - `random` library\n",
    "    - ...etc."
   ]
  },
  {
   "cell_type": "markdown",
   "metadata": {
    "slideshow": {
     "slide_type": "subslide"
    }
   },
   "source": [
    "## There are a couple of libraries and modules inside `numpy`\n",
    "\n",
    "![Imgur](https://i.imgur.com/vxKEAgS.png?1)"
   ]
  },
  {
   "cell_type": "markdown",
   "metadata": {
    "slideshow": {
     "slide_type": "subslide"
    }
   },
   "source": [
    "## We can also find modules inside `random`\n",
    "\n",
    "![Imgur](https://i.imgur.com/4eysMXI.png?1)"
   ]
  },
  {
   "cell_type": "markdown",
   "metadata": {
    "slideshow": {
     "slide_type": "subslide"
    }
   },
   "source": [
    "## Currently, we might not need to create our own libraries or packages. But we have to know how to leverage standard and third party modules/libraries"
   ]
  },
  {
   "cell_type": "markdown",
   "metadata": {
    "slideshow": {
     "slide_type": "subslide"
    }
   },
   "source": [
    "## How to install a library or module?\n",
    "\n",
    "Use `pip install` command from at terminal.\n",
    "\n",
    "```bash\n",
    "# for example\n",
    "pip install numpy pandas\n",
    "```"
   ]
  },
  {
   "cell_type": "markdown",
   "metadata": {
    "slideshow": {
     "slide_type": "subslide"
    }
   },
   "source": [
    "## How to import a library or module?\n",
    "\n",
    "- Use `import` keyword\n",
    "- Use `as` keyword for alias\n",
    "\n",
    "```python\n",
    "# for example\n",
    "import numpy as np\n",
    "import pandas as pd\n",
    "```"
   ]
  },
  {
   "cell_type": "markdown",
   "metadata": {
    "slideshow": {
     "slide_type": "subslide"
    }
   },
   "source": [
    "## Distinguish the use of function, attributes and methods given an object"
   ]
  },
  {
   "cell_type": "code",
   "execution_count": 1,
   "metadata": {},
   "outputs": [
    {
     "name": "stdout",
     "output_type": "stream",
     "text": [
      "5\n",
      "28\n"
     ]
    }
   ],
   "source": [
    "import numpy as np\n",
    "\n",
    "arr = np.array([2, 3, 5, 7, 11]) # function\n",
    "print(arr.size)                  # the attribute of arr object\n",
    "print(arr.sum())                 # the method of arr object"
   ]
  },
  {
   "cell_type": "markdown",
   "metadata": {
    "slideshow": {
     "slide_type": "subslide"
    }
   },
   "source": [
    "## Make our own `simple_calculator.py` module\n",
    "\n",
    "- Create an empty `simple_calculator.py`\n",
    "- Copy our previously defined `SimpleCalculator` class and paste onto `simple_calculator.py`\n",
    "- Import from module\n",
    "\n",
    "```python\n",
    "from simple_calculator import SimpleCalculator\n",
    "```"
   ]
  },
  {
   "cell_type": "markdown",
   "metadata": {
    "slideshow": {
     "slide_type": "subslide"
    }
   },
   "source": [
    "## Make our own `calculators` library\n",
    "\n",
    "- Create an empty folder named `calculators`\n",
    "- Put `simple_calculator.py` inside folder `calculators`\n",
    "- Import from library\n",
    "\n",
    "```python\n",
    "from calculators.simple_calculator import SimpleCalculator\n",
    "```"
   ]
  }
 ],
 "metadata": {
  "celltoolbar": "Slideshow",
  "kernelspec": {
   "display_name": "Python Data Analysis",
   "language": "python",
   "name": "pyda"
  },
  "language_info": {
   "codemirror_mode": {
    "name": "ipython",
    "version": 3
   },
   "file_extension": ".py",
   "mimetype": "text/x-python",
   "name": "python",
   "nbconvert_exporter": "python",
   "pygments_lexer": "ipython3",
   "version": "3.6.8"
  }
 },
 "nbformat": 4,
 "nbformat_minor": 4
}
